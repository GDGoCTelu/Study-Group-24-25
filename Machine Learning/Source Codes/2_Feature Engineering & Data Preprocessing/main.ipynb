{
 "cells": [
  {
   "cell_type": "markdown",
   "metadata": {},
   "source": [
    "## Feature Engineering & Data Preprocessing Demo"
   ]
  },
  {
   "cell_type": "code",
   "execution_count": 1,
   "metadata": {},
   "outputs": [
    {
     "data": {
      "text/html": [
       "<div>\n",
       "<style scoped>\n",
       "    .dataframe tbody tr th:only-of-type {\n",
       "        vertical-align: middle;\n",
       "    }\n",
       "\n",
       "    .dataframe tbody tr th {\n",
       "        vertical-align: top;\n",
       "    }\n",
       "\n",
       "    .dataframe thead th {\n",
       "        text-align: right;\n",
       "    }\n",
       "</style>\n",
       "<table border=\"1\" class=\"dataframe\">\n",
       "  <thead>\n",
       "    <tr style=\"text-align: right;\">\n",
       "      <th></th>\n",
       "      <th>Unnamed: 0</th>\n",
       "      <th>customerID</th>\n",
       "      <th>gender</th>\n",
       "      <th>Partner</th>\n",
       "      <th>Dependents</th>\n",
       "      <th>tenure</th>\n",
       "      <th>PhoneService</th>\n",
       "      <th>MultipleLines</th>\n",
       "      <th>InternetService</th>\n",
       "      <th>OnlineSecurity</th>\n",
       "      <th>...</th>\n",
       "      <th>DeviceProtection</th>\n",
       "      <th>TechSupport</th>\n",
       "      <th>StreamingTV</th>\n",
       "      <th>StreamingMovies</th>\n",
       "      <th>Contract</th>\n",
       "      <th>PaperlessBilling</th>\n",
       "      <th>PaymentMethod</th>\n",
       "      <th>MonthlyCharges</th>\n",
       "      <th>TotalCharges</th>\n",
       "      <th>Churn</th>\n",
       "    </tr>\n",
       "  </thead>\n",
       "  <tbody>\n",
       "    <tr>\n",
       "      <th>0</th>\n",
       "      <td>0</td>\n",
       "      <td>7590-VHVEG</td>\n",
       "      <td>Female</td>\n",
       "      <td>Yes</td>\n",
       "      <td>No</td>\n",
       "      <td>1.0</td>\n",
       "      <td>No</td>\n",
       "      <td>No</td>\n",
       "      <td>DSL</td>\n",
       "      <td>No</td>\n",
       "      <td>...</td>\n",
       "      <td>No</td>\n",
       "      <td>No</td>\n",
       "      <td>No</td>\n",
       "      <td>No</td>\n",
       "      <td>Month-to-month</td>\n",
       "      <td>Yes</td>\n",
       "      <td>Electronic check</td>\n",
       "      <td>29.85</td>\n",
       "      <td>29.85</td>\n",
       "      <td>No</td>\n",
       "    </tr>\n",
       "    <tr>\n",
       "      <th>1</th>\n",
       "      <td>1</td>\n",
       "      <td>5575-GNVDE</td>\n",
       "      <td>Male</td>\n",
       "      <td>No</td>\n",
       "      <td>No</td>\n",
       "      <td>34.0</td>\n",
       "      <td>Yes</td>\n",
       "      <td>No</td>\n",
       "      <td>DSL</td>\n",
       "      <td>Yes</td>\n",
       "      <td>...</td>\n",
       "      <td>Yes</td>\n",
       "      <td>No</td>\n",
       "      <td>No</td>\n",
       "      <td>No</td>\n",
       "      <td>One year</td>\n",
       "      <td>No</td>\n",
       "      <td>Mailed check</td>\n",
       "      <td>56.95</td>\n",
       "      <td>1889.5</td>\n",
       "      <td>No</td>\n",
       "    </tr>\n",
       "    <tr>\n",
       "      <th>2</th>\n",
       "      <td>2</td>\n",
       "      <td>3668-QPYBK</td>\n",
       "      <td>Male</td>\n",
       "      <td>No</td>\n",
       "      <td>No</td>\n",
       "      <td>2.0</td>\n",
       "      <td>Yes</td>\n",
       "      <td>No</td>\n",
       "      <td>DSL</td>\n",
       "      <td>Yes</td>\n",
       "      <td>...</td>\n",
       "      <td>No</td>\n",
       "      <td>No</td>\n",
       "      <td>No</td>\n",
       "      <td>No</td>\n",
       "      <td>Month-to-month</td>\n",
       "      <td>Yes</td>\n",
       "      <td>Mailed check</td>\n",
       "      <td>53.85</td>\n",
       "      <td>108.15</td>\n",
       "      <td>Yes</td>\n",
       "    </tr>\n",
       "    <tr>\n",
       "      <th>3</th>\n",
       "      <td>3</td>\n",
       "      <td>7795-CFOCW</td>\n",
       "      <td>Male</td>\n",
       "      <td>No</td>\n",
       "      <td>No</td>\n",
       "      <td>45.0</td>\n",
       "      <td>No</td>\n",
       "      <td>No</td>\n",
       "      <td>DSL</td>\n",
       "      <td>Yes</td>\n",
       "      <td>...</td>\n",
       "      <td>Yes</td>\n",
       "      <td>Yes</td>\n",
       "      <td>No</td>\n",
       "      <td>No</td>\n",
       "      <td>One year</td>\n",
       "      <td>No</td>\n",
       "      <td>Bank transfer (automatic)</td>\n",
       "      <td>42.30</td>\n",
       "      <td>1840.75</td>\n",
       "      <td>No</td>\n",
       "    </tr>\n",
       "    <tr>\n",
       "      <th>4</th>\n",
       "      <td>4</td>\n",
       "      <td>9237-HQITU</td>\n",
       "      <td>Female</td>\n",
       "      <td>No</td>\n",
       "      <td>No</td>\n",
       "      <td>NaN</td>\n",
       "      <td>Yes</td>\n",
       "      <td>No</td>\n",
       "      <td>Fiber optic</td>\n",
       "      <td>No</td>\n",
       "      <td>...</td>\n",
       "      <td>No</td>\n",
       "      <td>No</td>\n",
       "      <td>No</td>\n",
       "      <td>No</td>\n",
       "      <td>Month-to-month</td>\n",
       "      <td>Yes</td>\n",
       "      <td>Electronic check</td>\n",
       "      <td>70.70</td>\n",
       "      <td>151.65</td>\n",
       "      <td>Yes</td>\n",
       "    </tr>\n",
       "    <tr>\n",
       "      <th>5</th>\n",
       "      <td>5</td>\n",
       "      <td>9305-CDSKC</td>\n",
       "      <td>Female</td>\n",
       "      <td>No</td>\n",
       "      <td>No</td>\n",
       "      <td>8.0</td>\n",
       "      <td>Yes</td>\n",
       "      <td>Yes</td>\n",
       "      <td>Fiber optic</td>\n",
       "      <td>No</td>\n",
       "      <td>...</td>\n",
       "      <td>Yes</td>\n",
       "      <td>No</td>\n",
       "      <td>Yes</td>\n",
       "      <td>Yes</td>\n",
       "      <td>Month-to-month</td>\n",
       "      <td>Yes</td>\n",
       "      <td>Electronic check</td>\n",
       "      <td>99.65</td>\n",
       "      <td>820.5</td>\n",
       "      <td>Yes</td>\n",
       "    </tr>\n",
       "    <tr>\n",
       "      <th>6</th>\n",
       "      <td>6</td>\n",
       "      <td>1452-KIOVK</td>\n",
       "      <td>Male</td>\n",
       "      <td>No</td>\n",
       "      <td>Yes</td>\n",
       "      <td>22.0</td>\n",
       "      <td>Yes</td>\n",
       "      <td>Yes</td>\n",
       "      <td>Fiber optic</td>\n",
       "      <td>No</td>\n",
       "      <td>...</td>\n",
       "      <td>No</td>\n",
       "      <td>No</td>\n",
       "      <td>Yes</td>\n",
       "      <td>No</td>\n",
       "      <td>Month-to-month</td>\n",
       "      <td>Yes</td>\n",
       "      <td>Credit card (automatic)</td>\n",
       "      <td>89.10</td>\n",
       "      <td>1949.4</td>\n",
       "      <td>No</td>\n",
       "    </tr>\n",
       "    <tr>\n",
       "      <th>7</th>\n",
       "      <td>7</td>\n",
       "      <td>6713-OKOMC</td>\n",
       "      <td>Female</td>\n",
       "      <td>No</td>\n",
       "      <td>No</td>\n",
       "      <td>-</td>\n",
       "      <td>No</td>\n",
       "      <td>No</td>\n",
       "      <td>DSL</td>\n",
       "      <td>Yes</td>\n",
       "      <td>...</td>\n",
       "      <td>No</td>\n",
       "      <td>No</td>\n",
       "      <td>No</td>\n",
       "      <td>No</td>\n",
       "      <td>Month-to-month</td>\n",
       "      <td>No</td>\n",
       "      <td>Mailed check</td>\n",
       "      <td>NaN</td>\n",
       "      <td>301.9</td>\n",
       "      <td>No</td>\n",
       "    </tr>\n",
       "    <tr>\n",
       "      <th>8</th>\n",
       "      <td>8</td>\n",
       "      <td>7892-POOKP</td>\n",
       "      <td>Female</td>\n",
       "      <td>Yes</td>\n",
       "      <td>No</td>\n",
       "      <td>28.0</td>\n",
       "      <td>Yes</td>\n",
       "      <td>Yes</td>\n",
       "      <td>Fiber optic</td>\n",
       "      <td>No</td>\n",
       "      <td>...</td>\n",
       "      <td>Yes</td>\n",
       "      <td>Yes</td>\n",
       "      <td>Yes</td>\n",
       "      <td>Yes</td>\n",
       "      <td>Month-to-month</td>\n",
       "      <td>Yes</td>\n",
       "      <td>Electronic check</td>\n",
       "      <td>204.80</td>\n",
       "      <td>3046.05</td>\n",
       "      <td>Yes</td>\n",
       "    </tr>\n",
       "    <tr>\n",
       "      <th>9</th>\n",
       "      <td>9</td>\n",
       "      <td>6388-TABGU</td>\n",
       "      <td>Male</td>\n",
       "      <td>No</td>\n",
       "      <td>Yes</td>\n",
       "      <td>62.0</td>\n",
       "      <td>Yes</td>\n",
       "      <td>No</td>\n",
       "      <td>DSL</td>\n",
       "      <td>Yes</td>\n",
       "      <td>...</td>\n",
       "      <td>No</td>\n",
       "      <td>No</td>\n",
       "      <td>No</td>\n",
       "      <td>No</td>\n",
       "      <td>One year</td>\n",
       "      <td>No</td>\n",
       "      <td>Bank transfer (automatic)</td>\n",
       "      <td>56.15</td>\n",
       "      <td>3487.95</td>\n",
       "      <td>No</td>\n",
       "    </tr>\n",
       "  </tbody>\n",
       "</table>\n",
       "<p>10 rows × 21 columns</p>\n",
       "</div>"
      ],
      "text/plain": [
       "   Unnamed: 0  customerID  gender Partner Dependents tenure PhoneService  \\\n",
       "0           0  7590-VHVEG  Female     Yes         No    1.0           No   \n",
       "1           1  5575-GNVDE    Male      No         No   34.0          Yes   \n",
       "2           2  3668-QPYBK    Male      No         No    2.0          Yes   \n",
       "3           3  7795-CFOCW    Male      No         No   45.0           No   \n",
       "4           4  9237-HQITU  Female      No         No    NaN          Yes   \n",
       "5           5  9305-CDSKC  Female      No         No    8.0          Yes   \n",
       "6           6  1452-KIOVK    Male      No        Yes   22.0          Yes   \n",
       "7           7  6713-OKOMC  Female      No         No      -           No   \n",
       "8           8  7892-POOKP  Female     Yes         No   28.0          Yes   \n",
       "9           9  6388-TABGU    Male      No        Yes   62.0          Yes   \n",
       "\n",
       "  MultipleLines InternetService OnlineSecurity  ... DeviceProtection  \\\n",
       "0            No             DSL             No  ...               No   \n",
       "1            No             DSL            Yes  ...              Yes   \n",
       "2            No             DSL            Yes  ...               No   \n",
       "3            No             DSL            Yes  ...              Yes   \n",
       "4            No     Fiber optic             No  ...               No   \n",
       "5           Yes     Fiber optic             No  ...              Yes   \n",
       "6           Yes     Fiber optic             No  ...               No   \n",
       "7            No             DSL            Yes  ...               No   \n",
       "8           Yes     Fiber optic             No  ...              Yes   \n",
       "9            No             DSL            Yes  ...               No   \n",
       "\n",
       "  TechSupport StreamingTV StreamingMovies        Contract PaperlessBilling  \\\n",
       "0          No          No              No  Month-to-month              Yes   \n",
       "1          No          No              No        One year               No   \n",
       "2          No          No              No  Month-to-month              Yes   \n",
       "3         Yes          No              No        One year               No   \n",
       "4          No          No              No  Month-to-month              Yes   \n",
       "5          No         Yes             Yes  Month-to-month              Yes   \n",
       "6          No         Yes              No  Month-to-month              Yes   \n",
       "7          No          No              No  Month-to-month               No   \n",
       "8         Yes         Yes             Yes  Month-to-month              Yes   \n",
       "9          No          No              No        One year               No   \n",
       "\n",
       "               PaymentMethod MonthlyCharges  TotalCharges Churn  \n",
       "0           Electronic check          29.85         29.85    No  \n",
       "1               Mailed check          56.95        1889.5    No  \n",
       "2               Mailed check          53.85        108.15   Yes  \n",
       "3  Bank transfer (automatic)          42.30       1840.75    No  \n",
       "4           Electronic check          70.70        151.65   Yes  \n",
       "5           Electronic check          99.65         820.5   Yes  \n",
       "6    Credit card (automatic)          89.10        1949.4    No  \n",
       "7               Mailed check            NaN         301.9    No  \n",
       "8           Electronic check         204.80       3046.05   Yes  \n",
       "9  Bank transfer (automatic)          56.15       3487.95    No  \n",
       "\n",
       "[10 rows x 21 columns]"
      ]
     },
     "execution_count": 1,
     "metadata": {},
     "output_type": "execute_result"
    }
   ],
   "source": [
    "import pandas as pd\n",
    "import numpy as np\n",
    "import matplotlib.pyplot as plt\n",
    "import seaborn as sns\n",
    "import warnings\n",
    "warnings.filterwarnings('ignore')\n",
    "\n",
    "from sklearn.model_selection import train_test_split\n",
    "\n",
    "%matplotlib inline\n",
    "\n",
    "# load CHN data\n",
    "df_chn = pd.read_csv('demo.csv')\n",
    "\n",
    "df_chn.head(10)"
   ]
  },
  {
   "cell_type": "code",
   "execution_count": 2,
   "metadata": {},
   "outputs": [
    {
     "name": "stdout",
     "output_type": "stream",
     "text": [
      "<class 'pandas.core.frame.DataFrame'>\n",
      "RangeIndex: 11234 entries, 0 to 11233\n",
      "Data columns (total 21 columns):\n",
      " #   Column            Non-Null Count  Dtype  \n",
      "---  ------            --------------  -----  \n",
      " 0   Unnamed: 0        11234 non-null  int64  \n",
      " 1   customerID        11234 non-null  object \n",
      " 2   gender            11234 non-null  object \n",
      " 3   Partner           11234 non-null  object \n",
      " 4   Dependents        11234 non-null  object \n",
      " 5   tenure            9526 non-null   object \n",
      " 6   PhoneService      11234 non-null  object \n",
      " 7   MultipleLines     11234 non-null  object \n",
      " 8   InternetService   11234 non-null  object \n",
      " 9   OnlineSecurity    11234 non-null  object \n",
      " 10  OnlineBackup      11234 non-null  object \n",
      " 11  DeviceProtection  11234 non-null  object \n",
      " 12  TechSupport       11234 non-null  object \n",
      " 13  StreamingTV       11234 non-null  object \n",
      " 14  StreamingMovies   11234 non-null  object \n",
      " 15  Contract          11234 non-null  object \n",
      " 16  PaperlessBilling  11234 non-null  object \n",
      " 17  PaymentMethod     11234 non-null  object \n",
      " 18  MonthlyCharges    8988 non-null   float64\n",
      " 19  TotalCharges      11234 non-null  object \n",
      " 20  Churn             11234 non-null  object \n",
      "dtypes: float64(1), int64(1), object(19)\n",
      "memory usage: 1.8+ MB\n"
     ]
    }
   ],
   "source": [
    "df_chn.info()"
   ]
  },
  {
   "cell_type": "markdown",
   "metadata": {},
   "source": [
    "Remove unnecessary columns"
   ]
  },
  {
   "cell_type": "code",
   "execution_count": 3,
   "metadata": {},
   "outputs": [
    {
     "data": {
      "text/html": [
       "<div>\n",
       "<style scoped>\n",
       "    .dataframe tbody tr th:only-of-type {\n",
       "        vertical-align: middle;\n",
       "    }\n",
       "\n",
       "    .dataframe tbody tr th {\n",
       "        vertical-align: top;\n",
       "    }\n",
       "\n",
       "    .dataframe thead th {\n",
       "        text-align: right;\n",
       "    }\n",
       "</style>\n",
       "<table border=\"1\" class=\"dataframe\">\n",
       "  <thead>\n",
       "    <tr style=\"text-align: right;\">\n",
       "      <th></th>\n",
       "      <th>gender</th>\n",
       "      <th>Partner</th>\n",
       "      <th>Dependents</th>\n",
       "      <th>tenure</th>\n",
       "      <th>PhoneService</th>\n",
       "      <th>MultipleLines</th>\n",
       "      <th>InternetService</th>\n",
       "      <th>OnlineSecurity</th>\n",
       "      <th>OnlineBackup</th>\n",
       "      <th>DeviceProtection</th>\n",
       "      <th>TechSupport</th>\n",
       "      <th>StreamingTV</th>\n",
       "      <th>StreamingMovies</th>\n",
       "      <th>Contract</th>\n",
       "      <th>PaperlessBilling</th>\n",
       "      <th>PaymentMethod</th>\n",
       "      <th>MonthlyCharges</th>\n",
       "      <th>TotalCharges</th>\n",
       "      <th>Churn</th>\n",
       "    </tr>\n",
       "  </thead>\n",
       "  <tbody>\n",
       "    <tr>\n",
       "      <th>0</th>\n",
       "      <td>Female</td>\n",
       "      <td>Yes</td>\n",
       "      <td>No</td>\n",
       "      <td>1.0</td>\n",
       "      <td>No</td>\n",
       "      <td>No</td>\n",
       "      <td>DSL</td>\n",
       "      <td>No</td>\n",
       "      <td>Yes</td>\n",
       "      <td>No</td>\n",
       "      <td>No</td>\n",
       "      <td>No</td>\n",
       "      <td>No</td>\n",
       "      <td>Month-to-month</td>\n",
       "      <td>Yes</td>\n",
       "      <td>Electronic check</td>\n",
       "      <td>29.85</td>\n",
       "      <td>29.85</td>\n",
       "      <td>No</td>\n",
       "    </tr>\n",
       "    <tr>\n",
       "      <th>1</th>\n",
       "      <td>Male</td>\n",
       "      <td>No</td>\n",
       "      <td>No</td>\n",
       "      <td>34.0</td>\n",
       "      <td>Yes</td>\n",
       "      <td>No</td>\n",
       "      <td>DSL</td>\n",
       "      <td>Yes</td>\n",
       "      <td>No</td>\n",
       "      <td>Yes</td>\n",
       "      <td>No</td>\n",
       "      <td>No</td>\n",
       "      <td>No</td>\n",
       "      <td>One year</td>\n",
       "      <td>No</td>\n",
       "      <td>Mailed check</td>\n",
       "      <td>56.95</td>\n",
       "      <td>1889.5</td>\n",
       "      <td>No</td>\n",
       "    </tr>\n",
       "    <tr>\n",
       "      <th>2</th>\n",
       "      <td>Male</td>\n",
       "      <td>No</td>\n",
       "      <td>No</td>\n",
       "      <td>2.0</td>\n",
       "      <td>Yes</td>\n",
       "      <td>No</td>\n",
       "      <td>DSL</td>\n",
       "      <td>Yes</td>\n",
       "      <td>Yes</td>\n",
       "      <td>No</td>\n",
       "      <td>No</td>\n",
       "      <td>No</td>\n",
       "      <td>No</td>\n",
       "      <td>Month-to-month</td>\n",
       "      <td>Yes</td>\n",
       "      <td>Mailed check</td>\n",
       "      <td>53.85</td>\n",
       "      <td>108.15</td>\n",
       "      <td>Yes</td>\n",
       "    </tr>\n",
       "    <tr>\n",
       "      <th>3</th>\n",
       "      <td>Male</td>\n",
       "      <td>No</td>\n",
       "      <td>No</td>\n",
       "      <td>45.0</td>\n",
       "      <td>No</td>\n",
       "      <td>No</td>\n",
       "      <td>DSL</td>\n",
       "      <td>Yes</td>\n",
       "      <td>No</td>\n",
       "      <td>Yes</td>\n",
       "      <td>Yes</td>\n",
       "      <td>No</td>\n",
       "      <td>No</td>\n",
       "      <td>One year</td>\n",
       "      <td>No</td>\n",
       "      <td>Bank transfer (automatic)</td>\n",
       "      <td>42.30</td>\n",
       "      <td>1840.75</td>\n",
       "      <td>No</td>\n",
       "    </tr>\n",
       "    <tr>\n",
       "      <th>4</th>\n",
       "      <td>Female</td>\n",
       "      <td>No</td>\n",
       "      <td>No</td>\n",
       "      <td>NaN</td>\n",
       "      <td>Yes</td>\n",
       "      <td>No</td>\n",
       "      <td>Fiber optic</td>\n",
       "      <td>No</td>\n",
       "      <td>No</td>\n",
       "      <td>No</td>\n",
       "      <td>No</td>\n",
       "      <td>No</td>\n",
       "      <td>No</td>\n",
       "      <td>Month-to-month</td>\n",
       "      <td>Yes</td>\n",
       "      <td>Electronic check</td>\n",
       "      <td>70.70</td>\n",
       "      <td>151.65</td>\n",
       "      <td>Yes</td>\n",
       "    </tr>\n",
       "  </tbody>\n",
       "</table>\n",
       "</div>"
      ],
      "text/plain": [
       "   gender Partner Dependents tenure PhoneService MultipleLines  \\\n",
       "0  Female     Yes         No    1.0           No            No   \n",
       "1    Male      No         No   34.0          Yes            No   \n",
       "2    Male      No         No    2.0          Yes            No   \n",
       "3    Male      No         No   45.0           No            No   \n",
       "4  Female      No         No    NaN          Yes            No   \n",
       "\n",
       "  InternetService OnlineSecurity OnlineBackup DeviceProtection TechSupport  \\\n",
       "0             DSL             No          Yes               No          No   \n",
       "1             DSL            Yes           No              Yes          No   \n",
       "2             DSL            Yes          Yes               No          No   \n",
       "3             DSL            Yes           No              Yes         Yes   \n",
       "4     Fiber optic             No           No               No          No   \n",
       "\n",
       "  StreamingTV StreamingMovies        Contract PaperlessBilling  \\\n",
       "0          No              No  Month-to-month              Yes   \n",
       "1          No              No        One year               No   \n",
       "2          No              No  Month-to-month              Yes   \n",
       "3          No              No        One year               No   \n",
       "4          No              No  Month-to-month              Yes   \n",
       "\n",
       "               PaymentMethod  MonthlyCharges TotalCharges Churn  \n",
       "0           Electronic check           29.85        29.85    No  \n",
       "1               Mailed check           56.95       1889.5    No  \n",
       "2               Mailed check           53.85       108.15   Yes  \n",
       "3  Bank transfer (automatic)           42.30      1840.75    No  \n",
       "4           Electronic check           70.70       151.65   Yes  "
      ]
     },
     "execution_count": 3,
     "metadata": {},
     "output_type": "execute_result"
    }
   ],
   "source": [
    "cols_to_remove = ['customerID', 'Unnamed: 0']\n",
    "df_chn.drop(cols_to_remove, axis=1, inplace=True)\n",
    "\n",
    "df_chn.head()"
   ]
  },
  {
   "cell_type": "markdown",
   "metadata": {},
   "source": [
    "Put columns into consistent format"
   ]
  },
  {
   "cell_type": "code",
   "execution_count": 4,
   "metadata": {},
   "outputs": [
    {
     "name": "stdout",
     "output_type": "stream",
     "text": [
      "<class 'pandas.core.frame.DataFrame'>\n",
      "RangeIndex: 11234 entries, 0 to 11233\n",
      "Data columns (total 19 columns):\n",
      " #   Column            Non-Null Count  Dtype  \n",
      "---  ------            --------------  -----  \n",
      " 0   gender            11234 non-null  object \n",
      " 1   Partner           11234 non-null  object \n",
      " 2   Dependents        11234 non-null  object \n",
      " 3   tenure            8988 non-null   float64\n",
      " 4   PhoneService      11234 non-null  object \n",
      " 5   MultipleLines     11234 non-null  object \n",
      " 6   InternetService   11234 non-null  object \n",
      " 7   OnlineSecurity    11234 non-null  object \n",
      " 8   OnlineBackup      11234 non-null  object \n",
      " 9   DeviceProtection  11234 non-null  object \n",
      " 10  TechSupport       11234 non-null  object \n",
      " 11  StreamingTV       11234 non-null  object \n",
      " 12  StreamingMovies   11234 non-null  object \n",
      " 13  Contract          11234 non-null  object \n",
      " 14  PaperlessBilling  11234 non-null  object \n",
      " 15  PaymentMethod     11234 non-null  object \n",
      " 16  MonthlyCharges    8988 non-null   float64\n",
      " 17  TotalCharges      11212 non-null  float64\n",
      " 18  Churn             11234 non-null  object \n",
      "dtypes: float64(3), object(16)\n",
      "memory usage: 1.6+ MB\n"
     ]
    }
   ],
   "source": [
    "fix_cols = ['tenure', 'TotalCharges']\n",
    "\n",
    "# convert to numeric\n",
    "df_chn[fix_cols] = df_chn[fix_cols].apply(pd.to_numeric, errors='coerce')\n",
    "\n",
    "# check if conversion is successful\n",
    "df_chn.info()"
   ]
  },
  {
   "cell_type": "markdown",
   "metadata": {},
   "source": [
    "Checking missing values"
   ]
  },
  {
   "cell_type": "code",
   "execution_count": 5,
   "metadata": {},
   "outputs": [
    {
     "data": {
      "text/plain": [
       "gender                 0\n",
       "Partner                0\n",
       "Dependents             0\n",
       "tenure              2246\n",
       "PhoneService           0\n",
       "MultipleLines          0\n",
       "InternetService        0\n",
       "OnlineSecurity         0\n",
       "OnlineBackup           0\n",
       "DeviceProtection       0\n",
       "TechSupport            0\n",
       "StreamingTV            0\n",
       "StreamingMovies        0\n",
       "Contract               0\n",
       "PaperlessBilling       0\n",
       "PaymentMethod          0\n",
       "MonthlyCharges      2246\n",
       "TotalCharges          22\n",
       "Churn                  0\n",
       "dtype: int64"
      ]
     },
     "execution_count": 5,
     "metadata": {},
     "output_type": "execute_result"
    }
   ],
   "source": [
    "df_chn.isna().sum()"
   ]
  },
  {
   "cell_type": "markdown",
   "metadata": {},
   "source": [
    "Checking duplicated values"
   ]
  },
  {
   "cell_type": "code",
   "execution_count": 6,
   "metadata": {},
   "outputs": [
    {
     "data": {
      "text/plain": [
       "22"
      ]
     },
     "execution_count": 6,
     "metadata": {},
     "output_type": "execute_result"
    }
   ],
   "source": [
    "df_chn.duplicated().sum()"
   ]
  },
  {
   "cell_type": "markdown",
   "metadata": {},
   "source": [
    "Handling Duplicated Values\n",
    "- Removing duplicated rows"
   ]
  },
  {
   "cell_type": "code",
   "execution_count": 7,
   "metadata": {},
   "outputs": [
    {
     "data": {
      "text/plain": [
       "0"
      ]
     },
     "execution_count": 7,
     "metadata": {},
     "output_type": "execute_result"
    }
   ],
   "source": [
    "# drop duplicated rows\n",
    "df_chn.drop_duplicates(inplace=True)\n",
    "\n",
    "df_chn.duplicated().sum()"
   ]
  },
  {
   "cell_type": "markdown",
   "metadata": {},
   "source": [
    "Visualize numerical columns with boxplot"
   ]
  },
  {
   "cell_type": "code",
   "execution_count": 8,
   "metadata": {},
   "outputs": [],
   "source": [
    "num_cols = ['MonthlyCharges', 'tenure', 'TotalCharges']"
   ]
  },
  {
   "cell_type": "code",
   "execution_count": 9,
   "metadata": {},
   "outputs": [
    {
     "data": {
      "image/png": "[encoded data removed]",
      "text/plain": [
       "<Figure size 1200x600 with 1 Axes>"
      ]
     },
     "metadata": {},
     "output_type": "display_data"
    }
   ],
   "source": [
    "plt.figure(figsize=(12, 6))\n",
    "sns.boxplot(data=df_chn[num_cols])\n",
    "plt.show()"
   ]
  },
  {
   "cell_type": "code",
   "execution_count": 10,
   "metadata": {},
   "outputs": [
    {
     "data": {
      "image/png": "[encoded data removed]",
      "text/plain": [
       "<Figure size 640x480 with 1 Axes>"
      ]
     },
     "metadata": {},
     "output_type": "display_data"
    }
   ],
   "source": [
    "sns.boxplot(data=df_chn['MonthlyCharges'])\n",
    "plt.title('MonthlyCharges Boxplot')\n",
    "plt.show()"
   ]
  },
  {
   "cell_type": "markdown",
   "metadata": {},
   "source": [
    "Visualize numerical columns with Histogram Plot"
   ]
  },
  {
   "cell_type": "code",
   "execution_count": 11,
   "metadata": {},
   "outputs": [
    {
     "data": {
      "image/png": "[encoded data removed]",
      "text/plain": [
       "<Figure size 1200x600 with 4 Axes>"
      ]
     },
     "metadata": {},
     "output_type": "display_data"
    }
   ],
   "source": [
    "df_chn[num_cols].hist(bins=30, figsize=(12, 6))\n",
    "plt.show()\n"
   ]
  },
  {
   "cell_type": "markdown",
   "metadata": {},
   "source": [
    "Reducing Outliers by Log-transforming `MonthlyCharges` column"
   ]
  },
  {
   "cell_type": "code",
   "execution_count": 12,
   "metadata": {},
   "outputs": [
    {
     "data": {
      "image/png": "[encoded data removed]",
      "text/plain": [
       "<Figure size 640x480 with 1 Axes>"
      ]
     },
     "metadata": {},
     "output_type": "display_data"
    },
    {
     "data": {
      "image/png": "[encoded data removed]",
      "text/plain": [
       "<Figure size 640x480 with 1 Axes>"
      ]
     },
     "metadata": {},
     "output_type": "display_data"
    }
   ],
   "source": [
    "df_chn['MonthlyCharges'] = np.log(df_chn['MonthlyCharges'])\n",
    "\n",
    "sns.boxplot(df_chn['MonthlyCharges'])\n",
    "plt.show()\n",
    "\n",
    "sns.histplot(df_chn['MonthlyCharges'], bins=35)\n",
    "plt.show()"
   ]
  },
  {
   "cell_type": "markdown",
   "metadata": {},
   "source": [
    "Split data into train & test to avoid data leakage"
   ]
  },
  {
   "cell_type": "code",
   "execution_count": 13,
   "metadata": {},
   "outputs": [
    {
     "data": {
      "text/plain": [
       "((8969, 18), (2243, 18), (8969,), (2243,))"
      ]
     },
     "execution_count": 13,
     "metadata": {},
     "output_type": "execute_result"
    }
   ],
   "source": [
    "# Split data into training and testing sets\n",
    "X = df_chn.drop('Churn', axis=1)\n",
    "y = df_chn['Churn']\n",
    "\n",
    "X_train, X_test, y_train, y_test = train_test_split(X, y, test_size=0.2, random_state=42)\n",
    "\n",
    "X_train.shape, X_test.shape, y_train.shape, y_test.shape\n"
   ]
  },
  {
   "cell_type": "code",
   "execution_count": 14,
   "metadata": {},
   "outputs": [
    {
     "data": {
      "text/plain": [
       "gender                 0\n",
       "Partner                0\n",
       "Dependents             0\n",
       "tenure              2235\n",
       "PhoneService           0\n",
       "MultipleLines          0\n",
       "InternetService        0\n",
       "OnlineSecurity         0\n",
       "OnlineBackup           0\n",
       "DeviceProtection       0\n",
       "TechSupport            0\n",
       "StreamingTV            0\n",
       "StreamingMovies        0\n",
       "Contract               0\n",
       "PaperlessBilling       0\n",
       "PaymentMethod          0\n",
       "MonthlyCharges      2234\n",
       "TotalCharges          22\n",
       "Churn                  0\n",
       "dtype: int64"
      ]
     },
     "execution_count": 14,
     "metadata": {},
     "output_type": "execute_result"
    }
   ],
   "source": [
    "df_chn.isna().sum()"
   ]
  },
  {
   "cell_type": "markdown",
   "metadata": {},
   "source": [
    "Feature Scaling (numerical column only!!)"
   ]
  },
  {
   "cell_type": "code",
   "execution_count": 15,
   "metadata": {},
   "outputs": [
    {
     "data": {
      "image/png": "[encoded data removed]",
      "text/plain": [
       "<Figure size 1200x600 with 4 Axes>"
      ]
     },
     "metadata": {},
     "output_type": "display_data"
    }
   ],
   "source": [
    "X_train[num_cols].hist(bins=20, figsize=(12, 6))\n",
    "plt.show()"
   ]
  },
  {
   "cell_type": "code",
   "execution_count": 16,
   "metadata": {},
   "outputs": [
    {
     "data": {
      "image/png": "[encoded data removed]",
      "text/plain": [
       "<Figure size 1200x600 with 4 Axes>"
      ]
     },
     "metadata": {},
     "output_type": "display_data"
    }
   ],
   "source": [
    "from sklearn.preprocessing import StandardScaler\n",
    "\n",
    "scaler = StandardScaler()\n",
    "\n",
    "X_train[num_cols] = scaler.fit_transform(X_train[num_cols])\n",
    "X_test[num_cols] = scaler.transform(X_test[num_cols])\n",
    "\n",
    "X_train[num_cols].hist(bins=20, figsize=(12, 6))\n",
    "plt.show()"
   ]
  },
  {
   "cell_type": "code",
   "execution_count": 17,
   "metadata": {},
   "outputs": [
    {
     "data": {
      "image/png": "[encoded data removed]",
      "text/plain": [
       "<Figure size 640x480 with 1 Axes>"
      ]
     },
     "metadata": {},
     "output_type": "display_data"
    }
   ],
   "source": [
    "sns.boxplot(data=X_train[num_cols])\n",
    "plt.show()"
   ]
  },
  {
   "cell_type": "markdown",
   "metadata": {},
   "source": [
    "Handling Missing Values"
   ]
  },
  {
   "cell_type": "code",
   "execution_count": 18,
   "metadata": {},
   "outputs": [
    {
     "data": {
      "text/plain": [
       "gender              0.000000\n",
       "Partner             0.000000\n",
       "Dependents          0.000000\n",
       "tenure              0.196343\n",
       "PhoneService        0.000000\n",
       "MultipleLines       0.000000\n",
       "InternetService     0.000000\n",
       "OnlineSecurity      0.000000\n",
       "OnlineBackup        0.000000\n",
       "DeviceProtection    0.000000\n",
       "TechSupport         0.000000\n",
       "StreamingTV         0.000000\n",
       "StreamingMovies     0.000000\n",
       "Contract            0.000000\n",
       "PaperlessBilling    0.000000\n",
       "PaymentMethod       0.000000\n",
       "MonthlyCharges      0.199576\n",
       "TotalCharges        0.001895\n",
       "dtype: float64"
      ]
     },
     "execution_count": 18,
     "metadata": {},
     "output_type": "execute_result"
    }
   ],
   "source": [
    "X_train.isna().sum() / len(X_train)\n"
   ]
  },
  {
   "cell_type": "code",
   "execution_count": 19,
   "metadata": {},
   "outputs": [
    {
     "data": {
      "text/plain": [
       "gender              0.000000\n",
       "Partner             0.000000\n",
       "Dependents          0.000000\n",
       "tenure              0.211324\n",
       "PhoneService        0.000000\n",
       "MultipleLines       0.000000\n",
       "InternetService     0.000000\n",
       "OnlineSecurity      0.000000\n",
       "OnlineBackup        0.000000\n",
       "DeviceProtection    0.000000\n",
       "TechSupport         0.000000\n",
       "StreamingTV         0.000000\n",
       "StreamingMovies     0.000000\n",
       "Contract            0.000000\n",
       "PaperlessBilling    0.000000\n",
       "PaymentMethod       0.000000\n",
       "MonthlyCharges      0.197949\n",
       "TotalCharges        0.002229\n",
       "dtype: float64"
      ]
     },
     "execution_count": 19,
     "metadata": {},
     "output_type": "execute_result"
    }
   ],
   "source": [
    "X_test.isna().sum() / len(X_test)"
   ]
  },
  {
   "cell_type": "code",
   "execution_count": 20,
   "metadata": {},
   "outputs": [
    {
     "data": {
      "image/png": "[encoded data removed]",
      "text/plain": [
       "<Figure size 1000x800 with 4 Axes>"
      ]
     },
     "metadata": {},
     "output_type": "display_data"
    }
   ],
   "source": [
    "X_train[['TotalCharges', 'tenure', 'MonthlyCharges']].hist(bins=20, figsize=(10, 8))\n",
    "plt.show()"
   ]
  },
  {
   "cell_type": "markdown",
   "metadata": {},
   "source": [
    "Check Skewness"
   ]
  },
  {
   "cell_type": "code",
   "execution_count": 21,
   "metadata": {},
   "outputs": [
    {
     "data": {
      "text/plain": [
       "(0.9507266903399139, 0.2292327974298211, -0.08279871115514821)"
      ]
     },
     "execution_count": 21,
     "metadata": {},
     "output_type": "execute_result"
    }
   ],
   "source": [
    "X_train['TotalCharges'].skew(), X_train['tenure'].skew(), X_train['MonthlyCharges'].skew()"
   ]
  },
  {
   "cell_type": "markdown",
   "metadata": {},
   "source": [
    "Missing Value imputation"
   ]
  },
  {
   "cell_type": "code",
   "execution_count": 22,
   "metadata": {},
   "outputs": [
    {
     "data": {
      "text/plain": [
       "gender              0.0\n",
       "Partner             0.0\n",
       "Dependents          0.0\n",
       "tenure              0.0\n",
       "PhoneService        0.0\n",
       "MultipleLines       0.0\n",
       "InternetService     0.0\n",
       "OnlineSecurity      0.0\n",
       "OnlineBackup        0.0\n",
       "DeviceProtection    0.0\n",
       "TechSupport         0.0\n",
       "StreamingTV         0.0\n",
       "StreamingMovies     0.0\n",
       "Contract            0.0\n",
       "PaperlessBilling    0.0\n",
       "PaymentMethod       0.0\n",
       "MonthlyCharges      0.0\n",
       "TotalCharges        0.0\n",
       "dtype: float64"
      ]
     },
     "execution_count": 22,
     "metadata": {},
     "output_type": "execute_result"
    }
   ],
   "source": [
    "X_train['TotalCharges'].fillna(X_train['TotalCharges'].median(), inplace=True)\n",
    "X_test['TotalCharges'].fillna(X_test['TotalCharges'].median(), inplace=True)\n",
    "\n",
    "X_train['tenure'].fillna(X_train['tenure'].mean(), inplace=True)\n",
    "X_test['tenure'].fillna(X_test['tenure'].mean(), inplace=True)\n",
    "\n",
    "X_train['MonthlyCharges'].fillna(X_train['MonthlyCharges'].mean(), inplace=True)\n",
    "X_test['MonthlyCharges'].fillna(X_test['MonthlyCharges'].mean(), inplace=True)\n",
    "\n",
    "\n",
    "X_train.isna().sum() / len(X_train)"
   ]
  },
  {
   "cell_type": "code",
   "execution_count": 23,
   "metadata": {},
   "outputs": [
    {
     "data": {
      "image/png": "[encoded data removed]",
      "text/plain": [
       "<Figure size 1000x800 with 4 Axes>"
      ]
     },
     "metadata": {},
     "output_type": "display_data"
    }
   ],
   "source": [
    "X_train[['TotalCharges', 'tenure', 'MonthlyCharges']].hist(bins=20, figsize=(10, 8))\n",
    "plt.show()"
   ]
  },
  {
   "cell_type": "code",
   "execution_count": 24,
   "metadata": {},
   "outputs": [
    {
     "name": "stdout",
     "output_type": "stream",
     "text": [
      "gender              0\n",
      "Partner             0\n",
      "Dependents          0\n",
      "tenure              0\n",
      "PhoneService        0\n",
      "MultipleLines       0\n",
      "InternetService     0\n",
      "OnlineSecurity      0\n",
      "OnlineBackup        0\n",
      "DeviceProtection    0\n",
      "TechSupport         0\n",
      "StreamingTV         0\n",
      "StreamingMovies     0\n",
      "Contract            0\n",
      "PaperlessBilling    0\n",
      "PaymentMethod       0\n",
      "MonthlyCharges      0\n",
      "TotalCharges        0\n",
      "dtype: int64\n"
     ]
    }
   ],
   "source": [
    "print(X_test.isna().sum())"
   ]
  },
  {
   "cell_type": "code",
   "execution_count": 25,
   "metadata": {},
   "outputs": [
    {
     "data": {
      "image/png": "[encoded data removed]",
      "text/plain": [
       "<Figure size 640x480 with 1 Axes>"
      ]
     },
     "metadata": {},
     "output_type": "display_data"
    }
   ],
   "source": [
    "X_train['TotalCharges'].hist(bins=20)\n",
    "plt.show()\n"
   ]
  },
  {
   "cell_type": "code",
   "execution_count": 26,
   "metadata": {},
   "outputs": [
    {
     "name": "stdout",
     "output_type": "stream",
     "text": [
      "--------------------------------------------------\n",
      "gender\n",
      "Male      4538\n",
      "Female    4431\n",
      "Name: count, dtype: int64\n",
      "--------------------------------------------------\n",
      "Partner\n",
      "No     4641\n",
      "Yes    4237\n",
      "yEs      91\n",
      "Name: count, dtype: int64\n",
      "--------------------------------------------------\n",
      "Dependents\n",
      "No     6211\n",
      "Yes    2586\n",
      "no      118\n",
      "yeS      54\n",
      "Name: count, dtype: int64\n",
      "--------------------------------------------------\n",
      "PhoneService\n",
      "Yes    8097\n",
      "No      872\n",
      "Name: count, dtype: int64\n",
      "--------------------------------------------------\n",
      "MultipleLines\n",
      "No     5141\n",
      "Yes    3828\n",
      "Name: count, dtype: int64\n",
      "--------------------------------------------------\n",
      "InternetService\n",
      "Fiber optic    3940\n",
      "DSL            3059\n",
      "No             1970\n",
      "Name: count, dtype: int64\n",
      "--------------------------------------------------\n",
      "OnlineSecurity\n",
      "No                     4347\n",
      "Yes                    2517\n",
      "No internet service    1970\n",
      "no                       86\n",
      "yeS                      49\n",
      "Name: count, dtype: int64\n",
      "--------------------------------------------------\n",
      "OnlineBackup\n",
      "No                     3884\n",
      "Yes                    3054\n",
      "No internet service    1970\n",
      "yeS                      61\n",
      "Name: count, dtype: int64\n",
      "--------------------------------------------------\n",
      "DeviceProtection\n",
      "No     5912\n",
      "Yes    3057\n",
      "Name: count, dtype: int64\n",
      "--------------------------------------------------\n",
      "TechSupport\n",
      "No     6345\n",
      "Yes    2624\n",
      "Name: count, dtype: int64\n",
      "--------------------------------------------------\n",
      "StreamingTV\n",
      "No     5561\n",
      "Yes    3408\n",
      "Name: count, dtype: int64\n",
      "--------------------------------------------------\n",
      "StreamingMovies\n",
      "No     5461\n",
      "Yes    3508\n",
      "Name: count, dtype: int64\n",
      "--------------------------------------------------\n",
      "Contract\n",
      "Month-to-month    4895\n",
      "Two year          2177\n",
      "One year          1897\n",
      "Name: count, dtype: int64\n",
      "--------------------------------------------------\n",
      "PaperlessBilling\n",
      "Yes    5307\n",
      "No     3662\n",
      "Name: count, dtype: int64\n",
      "--------------------------------------------------\n",
      "PaymentMethod\n",
      "Electronic check             3018\n",
      "Mailed check                 2047\n",
      "Bank transfer (automatic)    1973\n",
      "Credit card (automatic)      1931\n",
      "Name: count, dtype: int64\n",
      "--------------------------------------------------\n"
     ]
    }
   ],
   "source": [
    "categorical_cols = X_train.select_dtypes(include=['object']).columns\n",
    "\n",
    "print('-'*50)\n",
    "for col in categorical_cols:\n",
    "    print(X_train[col].value_counts())\n",
    "    print('-'*50)"
   ]
  },
  {
   "cell_type": "code",
   "execution_count": 27,
   "metadata": {},
   "outputs": [],
   "source": [
    "# Partner (yEs -> Yes)\n",
    "X_train['Partner'].replace({'yEs': 'Yes'}, inplace=True)\n",
    "X_test['Partner'].replace({'yEs': 'Yes'}, inplace=True)\n",
    "\n",
    "# Dependents (yeS -> Yes, no -> No)\n",
    "X_train['Dependents'].replace({'yeS': 'Yes', 'no': 'No'}, inplace=True)\n",
    "X_test['Dependents'].replace({'yeS': 'Yes', 'no': 'No'}, inplace=True)\n",
    "\n",
    "# OnlineSecurity (no -> No, No internet service -> No, yeS -> Yes)\n",
    "X_train['OnlineSecurity'].replace({'no': 'No', 'No internet service': 'No', 'yeS': 'Yes'}, inplace=True)\n",
    "X_test['OnlineSecurity'].replace({'no': 'No', 'No internet service': 'No', 'yeS': 'Yes'}, inplace=True)\n",
    "\n",
    "# OnlineBackup (no -> No, No internet service -> No, yeS -> Yes)\n",
    "X_train['OnlineBackup'].replace({'no': 'No', 'No internet service': 'No', 'yeS': 'Yes'}, inplace=True)\n",
    "X_test['OnlineBackup'].replace({'no': 'No', 'No internet service': 'No', 'yeS': 'Yes'}, inplace=True)"
   ]
  },
  {
   "cell_type": "code",
   "execution_count": 28,
   "metadata": {},
   "outputs": [
    {
     "name": "stdout",
     "output_type": "stream",
     "text": [
      "--------------------------------------------------\n",
      "gender\n",
      "Male      4538\n",
      "Female    4431\n",
      "Name: count, dtype: int64\n",
      "--------------------------------------------------\n",
      "Partner\n",
      "No     4641\n",
      "Yes    4328\n",
      "Name: count, dtype: int64\n",
      "--------------------------------------------------\n",
      "Dependents\n",
      "No     6329\n",
      "Yes    2640\n",
      "Name: count, dtype: int64\n",
      "--------------------------------------------------\n",
      "PhoneService\n",
      "Yes    8097\n",
      "No      872\n",
      "Name: count, dtype: int64\n",
      "--------------------------------------------------\n",
      "MultipleLines\n",
      "No     5141\n",
      "Yes    3828\n",
      "Name: count, dtype: int64\n",
      "--------------------------------------------------\n",
      "InternetService\n",
      "Fiber optic    3940\n",
      "DSL            3059\n",
      "No             1970\n",
      "Name: count, dtype: int64\n",
      "--------------------------------------------------\n",
      "OnlineSecurity\n",
      "No     6403\n",
      "Yes    2566\n",
      "Name: count, dtype: int64\n",
      "--------------------------------------------------\n",
      "OnlineBackup\n",
      "No     5854\n",
      "Yes    3115\n",
      "Name: count, dtype: int64\n",
      "--------------------------------------------------\n",
      "DeviceProtection\n",
      "No     5912\n",
      "Yes    3057\n",
      "Name: count, dtype: int64\n",
      "--------------------------------------------------\n",
      "TechSupport\n",
      "No     6345\n",
      "Yes    2624\n",
      "Name: count, dtype: int64\n",
      "--------------------------------------------------\n",
      "StreamingTV\n",
      "No     5561\n",
      "Yes    3408\n",
      "Name: count, dtype: int64\n",
      "--------------------------------------------------\n",
      "StreamingMovies\n",
      "No     5461\n",
      "Yes    3508\n",
      "Name: count, dtype: int64\n",
      "--------------------------------------------------\n",
      "Contract\n",
      "Month-to-month    4895\n",
      "Two year          2177\n",
      "One year          1897\n",
      "Name: count, dtype: int64\n",
      "--------------------------------------------------\n",
      "PaperlessBilling\n",
      "Yes    5307\n",
      "No     3662\n",
      "Name: count, dtype: int64\n",
      "--------------------------------------------------\n",
      "PaymentMethod\n",
      "Electronic check             3018\n",
      "Mailed check                 2047\n",
      "Bank transfer (automatic)    1973\n",
      "Credit card (automatic)      1931\n",
      "Name: count, dtype: int64\n",
      "--------------------------------------------------\n"
     ]
    }
   ],
   "source": [
    "categorical_cols = X_train.select_dtypes(include=['object']).columns\n",
    "\n",
    "print('-'*50)\n",
    "for col in categorical_cols:\n",
    "    print(X_train[col].value_counts())\n",
    "    print('-'*50)"
   ]
  },
  {
   "cell_type": "markdown",
   "metadata": {},
   "source": [
    "Categorical Encoding"
   ]
  },
  {
   "cell_type": "code",
   "execution_count": 29,
   "metadata": {},
   "outputs": [
    {
     "data": {
      "text/html": [
       "<div>\n",
       "<style scoped>\n",
       "    .dataframe tbody tr th:only-of-type {\n",
       "        vertical-align: middle;\n",
       "    }\n",
       "\n",
       "    .dataframe tbody tr th {\n",
       "        vertical-align: top;\n",
       "    }\n",
       "\n",
       "    .dataframe thead th {\n",
       "        text-align: right;\n",
       "    }\n",
       "</style>\n",
       "<table border=\"1\" class=\"dataframe\">\n",
       "  <thead>\n",
       "    <tr style=\"text-align: right;\">\n",
       "      <th></th>\n",
       "      <th>tenure</th>\n",
       "      <th>MonthlyCharges</th>\n",
       "      <th>TotalCharges</th>\n",
       "      <th>gender_Male</th>\n",
       "      <th>Partner_Yes</th>\n",
       "      <th>Dependents_Yes</th>\n",
       "      <th>PhoneService_Yes</th>\n",
       "      <th>MultipleLines_Yes</th>\n",
       "      <th>InternetService_Fiber optic</th>\n",
       "      <th>InternetService_No</th>\n",
       "      <th>...</th>\n",
       "      <th>DeviceProtection_Yes</th>\n",
       "      <th>TechSupport_Yes</th>\n",
       "      <th>StreamingTV_Yes</th>\n",
       "      <th>StreamingMovies_Yes</th>\n",
       "      <th>Contract_One year</th>\n",
       "      <th>Contract_Two year</th>\n",
       "      <th>PaperlessBilling_Yes</th>\n",
       "      <th>PaymentMethod_Credit card (automatic)</th>\n",
       "      <th>PaymentMethod_Electronic check</th>\n",
       "      <th>PaymentMethod_Mailed check</th>\n",
       "    </tr>\n",
       "  </thead>\n",
       "  <tbody>\n",
       "    <tr>\n",
       "      <th>9530</th>\n",
       "      <td>7.502471e-01</td>\n",
       "      <td>-8.033799e-01</td>\n",
       "      <td>-0.226969</td>\n",
       "      <td>False</td>\n",
       "      <td>True</td>\n",
       "      <td>True</td>\n",
       "      <td>False</td>\n",
       "      <td>False</td>\n",
       "      <td>False</td>\n",
       "      <td>False</td>\n",
       "      <td>...</td>\n",
       "      <td>False</td>\n",
       "      <td>True</td>\n",
       "      <td>False</td>\n",
       "      <td>False</td>\n",
       "      <td>False</td>\n",
       "      <td>True</td>\n",
       "      <td>False</td>\n",
       "      <td>False</td>\n",
       "      <td>False</td>\n",
       "      <td>False</td>\n",
       "    </tr>\n",
       "    <tr>\n",
       "      <th>10595</th>\n",
       "      <td>-1.439224e-16</td>\n",
       "      <td>3.721221e-01</td>\n",
       "      <td>0.568982</td>\n",
       "      <td>False</td>\n",
       "      <td>False</td>\n",
       "      <td>False</td>\n",
       "      <td>True</td>\n",
       "      <td>True</td>\n",
       "      <td>False</td>\n",
       "      <td>False</td>\n",
       "      <td>...</td>\n",
       "      <td>True</td>\n",
       "      <td>False</td>\n",
       "      <td>True</td>\n",
       "      <td>True</td>\n",
       "      <td>False</td>\n",
       "      <td>True</td>\n",
       "      <td>False</td>\n",
       "      <td>False</td>\n",
       "      <td>False</td>\n",
       "      <td>True</td>\n",
       "    </tr>\n",
       "    <tr>\n",
       "      <th>5373</th>\n",
       "      <td>1.562358e+00</td>\n",
       "      <td>1.704932e+00</td>\n",
       "      <td>2.193547</td>\n",
       "      <td>True</td>\n",
       "      <td>True</td>\n",
       "      <td>False</td>\n",
       "      <td>True</td>\n",
       "      <td>False</td>\n",
       "      <td>True</td>\n",
       "      <td>False</td>\n",
       "      <td>...</td>\n",
       "      <td>True</td>\n",
       "      <td>True</td>\n",
       "      <td>True</td>\n",
       "      <td>True</td>\n",
       "      <td>False</td>\n",
       "      <td>True</td>\n",
       "      <td>True</td>\n",
       "      <td>False</td>\n",
       "      <td>True</td>\n",
       "      <td>False</td>\n",
       "    </tr>\n",
       "    <tr>\n",
       "      <th>7280</th>\n",
       "      <td>1.237255e+00</td>\n",
       "      <td>-5.473327e-16</td>\n",
       "      <td>1.043772</td>\n",
       "      <td>True</td>\n",
       "      <td>True</td>\n",
       "      <td>True</td>\n",
       "      <td>True</td>\n",
       "      <td>False</td>\n",
       "      <td>False</td>\n",
       "      <td>False</td>\n",
       "      <td>...</td>\n",
       "      <td>True</td>\n",
       "      <td>True</td>\n",
       "      <td>True</td>\n",
       "      <td>False</td>\n",
       "      <td>False</td>\n",
       "      <td>True</td>\n",
       "      <td>False</td>\n",
       "      <td>True</td>\n",
       "      <td>False</td>\n",
       "      <td>False</td>\n",
       "    </tr>\n",
       "    <tr>\n",
       "      <th>4826</th>\n",
       "      <td>-9.989193e-01</td>\n",
       "      <td>1.706636e+00</td>\n",
       "      <td>-0.645395</td>\n",
       "      <td>False</td>\n",
       "      <td>False</td>\n",
       "      <td>False</td>\n",
       "      <td>True</td>\n",
       "      <td>True</td>\n",
       "      <td>True</td>\n",
       "      <td>False</td>\n",
       "      <td>...</td>\n",
       "      <td>True</td>\n",
       "      <td>False</td>\n",
       "      <td>True</td>\n",
       "      <td>True</td>\n",
       "      <td>False</td>\n",
       "      <td>False</td>\n",
       "      <td>True</td>\n",
       "      <td>False</td>\n",
       "      <td>True</td>\n",
       "      <td>False</td>\n",
       "    </tr>\n",
       "  </tbody>\n",
       "</table>\n",
       "<p>5 rows × 22 columns</p>\n",
       "</div>"
      ],
      "text/plain": [
       "             tenure  MonthlyCharges  TotalCharges  gender_Male  Partner_Yes  \\\n",
       "9530   7.502471e-01   -8.033799e-01     -0.226969        False         True   \n",
       "10595 -1.439224e-16    3.721221e-01      0.568982        False        False   \n",
       "5373   1.562358e+00    1.704932e+00      2.193547         True         True   \n",
       "7280   1.237255e+00   -5.473327e-16      1.043772         True         True   \n",
       "4826  -9.989193e-01    1.706636e+00     -0.645395        False        False   \n",
       "\n",
       "       Dependents_Yes  PhoneService_Yes  MultipleLines_Yes  \\\n",
       "9530             True             False              False   \n",
       "10595           False              True               True   \n",
       "5373            False              True              False   \n",
       "7280             True              True              False   \n",
       "4826            False              True               True   \n",
       "\n",
       "       InternetService_Fiber optic  InternetService_No  ...  \\\n",
       "9530                         False               False  ...   \n",
       "10595                        False               False  ...   \n",
       "5373                          True               False  ...   \n",
       "7280                         False               False  ...   \n",
       "4826                          True               False  ...   \n",
       "\n",
       "       DeviceProtection_Yes  TechSupport_Yes  StreamingTV_Yes  \\\n",
       "9530                  False             True            False   \n",
       "10595                  True            False             True   \n",
       "5373                   True             True             True   \n",
       "7280                   True             True             True   \n",
       "4826                   True            False             True   \n",
       "\n",
       "       StreamingMovies_Yes  Contract_One year  Contract_Two year  \\\n",
       "9530                 False              False               True   \n",
       "10595                 True              False               True   \n",
       "5373                  True              False               True   \n",
       "7280                 False              False               True   \n",
       "4826                  True              False              False   \n",
       "\n",
       "       PaperlessBilling_Yes  PaymentMethod_Credit card (automatic)  \\\n",
       "9530                  False                                  False   \n",
       "10595                 False                                  False   \n",
       "5373                   True                                  False   \n",
       "7280                  False                                   True   \n",
       "4826                   True                                  False   \n",
       "\n",
       "       PaymentMethod_Electronic check  PaymentMethod_Mailed check  \n",
       "9530                            False                       False  \n",
       "10595                           False                        True  \n",
       "5373                             True                       False  \n",
       "7280                            False                       False  \n",
       "4826                             True                       False  \n",
       "\n",
       "[5 rows x 22 columns]"
      ]
     },
     "execution_count": 29,
     "metadata": {},
     "output_type": "execute_result"
    }
   ],
   "source": [
    "# one hot encode\n",
    "\n",
    "X_train = pd.get_dummies(X_train, columns=categorical_cols, drop_first=True)\n",
    "X_test = pd.get_dummies(X_test, columns=categorical_cols, drop_first=True)\n",
    "\n",
    "X_train.head()\n"
   ]
  },
  {
   "cell_type": "code",
   "execution_count": 30,
   "metadata": {},
   "outputs": [
    {
     "data": {
      "text/plain": [
       "Index(['tenure', 'MonthlyCharges', 'TotalCharges', 'gender_Male',\n",
       "       'Partner_Yes', 'Dependents_Yes', 'PhoneService_Yes',\n",
       "       'MultipleLines_Yes', 'InternetService_Fiber optic',\n",
       "       'InternetService_No', 'OnlineSecurity_Yes', 'OnlineBackup_Yes',\n",
       "       'DeviceProtection_Yes', 'TechSupport_Yes', 'StreamingTV_Yes',\n",
       "       'StreamingMovies_Yes', 'Contract_One year', 'Contract_Two year',\n",
       "       'PaperlessBilling_Yes', 'PaymentMethod_Credit card (automatic)',\n",
       "       'PaymentMethod_Electronic check', 'PaymentMethod_Mailed check'],\n",
       "      dtype='object')"
      ]
     },
     "execution_count": 30,
     "metadata": {},
     "output_type": "execute_result"
    }
   ],
   "source": [
    "X_train.columns"
   ]
  },
  {
   "cell_type": "markdown",
   "metadata": {},
   "source": [
    "Label Encoding Target Values"
   ]
  },
  {
   "cell_type": "code",
   "execution_count": 31,
   "metadata": {},
   "outputs": [
    {
     "data": {
      "text/plain": [
       "array([0, 0, 0, ..., 0, 0, 0])"
      ]
     },
     "execution_count": 31,
     "metadata": {},
     "output_type": "execute_result"
    }
   ],
   "source": [
    "from sklearn.preprocessing import LabelEncoder\n",
    "\n",
    "le = LabelEncoder()\n",
    "\n",
    "y_train = le.fit_transform(y_train)\n",
    "y_test = le.transform(y_test)\n",
    "\n",
    "y_train\n"
   ]
  },
  {
   "cell_type": "code",
   "execution_count": 32,
   "metadata": {},
   "outputs": [
    {
     "name": "stdout",
     "output_type": "stream",
     "text": [
      "Train Label  \n",
      "0    6623\n",
      "1    2346\n",
      "Name: count, dtype: int64\n",
      "\n",
      "Test Label \n",
      "0    1666\n",
      "1     577\n",
      "Name: count, dtype: int64\n"
     ]
    }
   ],
   "source": [
    "print(f'Train Label  \\n{pd.Series(y_train).value_counts()}')\n",
    "print()\n",
    "print(f'Test Label \\n{pd.Series(y_test).value_counts()}')"
   ]
  },
  {
   "cell_type": "code",
   "execution_count": 33,
   "metadata": {},
   "outputs": [
    {
     "data": {
      "text/html": [
       "<div>\n",
       "<style scoped>\n",
       "    .dataframe tbody tr th:only-of-type {\n",
       "        vertical-align: middle;\n",
       "    }\n",
       "\n",
       "    .dataframe tbody tr th {\n",
       "        vertical-align: top;\n",
       "    }\n",
       "\n",
       "    .dataframe thead th {\n",
       "        text-align: right;\n",
       "    }\n",
       "</style>\n",
       "<table border=\"1\" class=\"dataframe\">\n",
       "  <thead>\n",
       "    <tr style=\"text-align: right;\">\n",
       "      <th></th>\n",
       "      <th>tenure</th>\n",
       "      <th>MonthlyCharges</th>\n",
       "      <th>TotalCharges</th>\n",
       "      <th>gender_Male</th>\n",
       "      <th>Partner_Yes</th>\n",
       "      <th>Dependents_Yes</th>\n",
       "      <th>PhoneService_Yes</th>\n",
       "      <th>MultipleLines_Yes</th>\n",
       "      <th>InternetService_Fiber optic</th>\n",
       "      <th>InternetService_No</th>\n",
       "      <th>...</th>\n",
       "      <th>DeviceProtection_Yes</th>\n",
       "      <th>TechSupport_Yes</th>\n",
       "      <th>StreamingTV_Yes</th>\n",
       "      <th>StreamingMovies_Yes</th>\n",
       "      <th>Contract_One year</th>\n",
       "      <th>Contract_Two year</th>\n",
       "      <th>PaperlessBilling_Yes</th>\n",
       "      <th>PaymentMethod_Credit card (automatic)</th>\n",
       "      <th>PaymentMethod_Electronic check</th>\n",
       "      <th>PaymentMethod_Mailed check</th>\n",
       "    </tr>\n",
       "  </thead>\n",
       "  <tbody>\n",
       "    <tr>\n",
       "      <th>9530</th>\n",
       "      <td>7.502471e-01</td>\n",
       "      <td>-8.033799e-01</td>\n",
       "      <td>-0.226969</td>\n",
       "      <td>False</td>\n",
       "      <td>True</td>\n",
       "      <td>True</td>\n",
       "      <td>False</td>\n",
       "      <td>False</td>\n",
       "      <td>False</td>\n",
       "      <td>False</td>\n",
       "      <td>...</td>\n",
       "      <td>False</td>\n",
       "      <td>True</td>\n",
       "      <td>False</td>\n",
       "      <td>False</td>\n",
       "      <td>False</td>\n",
       "      <td>True</td>\n",
       "      <td>False</td>\n",
       "      <td>False</td>\n",
       "      <td>False</td>\n",
       "      <td>False</td>\n",
       "    </tr>\n",
       "    <tr>\n",
       "      <th>10595</th>\n",
       "      <td>-1.439224e-16</td>\n",
       "      <td>3.721221e-01</td>\n",
       "      <td>0.568982</td>\n",
       "      <td>False</td>\n",
       "      <td>False</td>\n",
       "      <td>False</td>\n",
       "      <td>True</td>\n",
       "      <td>True</td>\n",
       "      <td>False</td>\n",
       "      <td>False</td>\n",
       "      <td>...</td>\n",
       "      <td>True</td>\n",
       "      <td>False</td>\n",
       "      <td>True</td>\n",
       "      <td>True</td>\n",
       "      <td>False</td>\n",
       "      <td>True</td>\n",
       "      <td>False</td>\n",
       "      <td>False</td>\n",
       "      <td>False</td>\n",
       "      <td>True</td>\n",
       "    </tr>\n",
       "    <tr>\n",
       "      <th>5373</th>\n",
       "      <td>1.562358e+00</td>\n",
       "      <td>1.704932e+00</td>\n",
       "      <td>2.193547</td>\n",
       "      <td>True</td>\n",
       "      <td>True</td>\n",
       "      <td>False</td>\n",
       "      <td>True</td>\n",
       "      <td>False</td>\n",
       "      <td>True</td>\n",
       "      <td>False</td>\n",
       "      <td>...</td>\n",
       "      <td>True</td>\n",
       "      <td>True</td>\n",
       "      <td>True</td>\n",
       "      <td>True</td>\n",
       "      <td>False</td>\n",
       "      <td>True</td>\n",
       "      <td>True</td>\n",
       "      <td>False</td>\n",
       "      <td>True</td>\n",
       "      <td>False</td>\n",
       "    </tr>\n",
       "    <tr>\n",
       "      <th>7280</th>\n",
       "      <td>1.237255e+00</td>\n",
       "      <td>-5.473327e-16</td>\n",
       "      <td>1.043772</td>\n",
       "      <td>True</td>\n",
       "      <td>True</td>\n",
       "      <td>True</td>\n",
       "      <td>True</td>\n",
       "      <td>False</td>\n",
       "      <td>False</td>\n",
       "      <td>False</td>\n",
       "      <td>...</td>\n",
       "      <td>True</td>\n",
       "      <td>True</td>\n",
       "      <td>True</td>\n",
       "      <td>False</td>\n",
       "      <td>False</td>\n",
       "      <td>True</td>\n",
       "      <td>False</td>\n",
       "      <td>True</td>\n",
       "      <td>False</td>\n",
       "      <td>False</td>\n",
       "    </tr>\n",
       "    <tr>\n",
       "      <th>4826</th>\n",
       "      <td>-9.989193e-01</td>\n",
       "      <td>1.706636e+00</td>\n",
       "      <td>-0.645395</td>\n",
       "      <td>False</td>\n",
       "      <td>False</td>\n",
       "      <td>False</td>\n",
       "      <td>True</td>\n",
       "      <td>True</td>\n",
       "      <td>True</td>\n",
       "      <td>False</td>\n",
       "      <td>...</td>\n",
       "      <td>True</td>\n",
       "      <td>False</td>\n",
       "      <td>True</td>\n",
       "      <td>True</td>\n",
       "      <td>False</td>\n",
       "      <td>False</td>\n",
       "      <td>True</td>\n",
       "      <td>False</td>\n",
       "      <td>True</td>\n",
       "      <td>False</td>\n",
       "    </tr>\n",
       "    <tr>\n",
       "      <th>...</th>\n",
       "      <td>...</td>\n",
       "      <td>...</td>\n",
       "      <td>...</td>\n",
       "      <td>...</td>\n",
       "      <td>...</td>\n",
       "      <td>...</td>\n",
       "      <td>...</td>\n",
       "      <td>...</td>\n",
       "      <td>...</td>\n",
       "      <td>...</td>\n",
       "      <td>...</td>\n",
       "      <td>...</td>\n",
       "      <td>...</td>\n",
       "      <td>...</td>\n",
       "      <td>...</td>\n",
       "      <td>...</td>\n",
       "      <td>...</td>\n",
       "      <td>...</td>\n",
       "      <td>...</td>\n",
       "      <td>...</td>\n",
       "      <td>...</td>\n",
       "    </tr>\n",
       "    <tr>\n",
       "      <th>5740</th>\n",
       "      <td>1.481047e+00</td>\n",
       "      <td>-6.160724e-01</td>\n",
       "      <td>0.211247</td>\n",
       "      <td>True</td>\n",
       "      <td>True</td>\n",
       "      <td>True</td>\n",
       "      <td>False</td>\n",
       "      <td>False</td>\n",
       "      <td>False</td>\n",
       "      <td>False</td>\n",
       "      <td>...</td>\n",
       "      <td>True</td>\n",
       "      <td>True</td>\n",
       "      <td>False</td>\n",
       "      <td>False</td>\n",
       "      <td>False</td>\n",
       "      <td>True</td>\n",
       "      <td>False</td>\n",
       "      <td>False</td>\n",
       "      <td>False</td>\n",
       "      <td>True</td>\n",
       "    </tr>\n",
       "    <tr>\n",
       "      <th>5195</th>\n",
       "      <td>1.603013e+00</td>\n",
       "      <td>2.975695e-01</td>\n",
       "      <td>1.334510</td>\n",
       "      <td>True</td>\n",
       "      <td>False</td>\n",
       "      <td>False</td>\n",
       "      <td>True</td>\n",
       "      <td>False</td>\n",
       "      <td>False</td>\n",
       "      <td>False</td>\n",
       "      <td>...</td>\n",
       "      <td>True</td>\n",
       "      <td>True</td>\n",
       "      <td>True</td>\n",
       "      <td>False</td>\n",
       "      <td>False</td>\n",
       "      <td>True</td>\n",
       "      <td>True</td>\n",
       "      <td>False</td>\n",
       "      <td>False</td>\n",
       "      <td>False</td>\n",
       "    </tr>\n",
       "    <tr>\n",
       "      <th>5394</th>\n",
       "      <td>6.272884e-01</td>\n",
       "      <td>1.703909e+00</td>\n",
       "      <td>1.223452</td>\n",
       "      <td>False</td>\n",
       "      <td>True</td>\n",
       "      <td>False</td>\n",
       "      <td>True</td>\n",
       "      <td>True</td>\n",
       "      <td>True</td>\n",
       "      <td>False</td>\n",
       "      <td>...</td>\n",
       "      <td>False</td>\n",
       "      <td>True</td>\n",
       "      <td>True</td>\n",
       "      <td>True</td>\n",
       "      <td>False</td>\n",
       "      <td>False</td>\n",
       "      <td>True</td>\n",
       "      <td>True</td>\n",
       "      <td>False</td>\n",
       "      <td>False</td>\n",
       "    </tr>\n",
       "    <tr>\n",
       "      <th>860</th>\n",
       "      <td>-2.671258e-01</td>\n",
       "      <td>-1.568548e+00</td>\n",
       "      <td>-0.808930</td>\n",
       "      <td>True</td>\n",
       "      <td>False</td>\n",
       "      <td>False</td>\n",
       "      <td>True</td>\n",
       "      <td>False</td>\n",
       "      <td>False</td>\n",
       "      <td>True</td>\n",
       "      <td>...</td>\n",
       "      <td>False</td>\n",
       "      <td>False</td>\n",
       "      <td>False</td>\n",
       "      <td>False</td>\n",
       "      <td>True</td>\n",
       "      <td>False</td>\n",
       "      <td>False</td>\n",
       "      <td>True</td>\n",
       "      <td>False</td>\n",
       "      <td>False</td>\n",
       "    </tr>\n",
       "    <tr>\n",
       "      <th>7282</th>\n",
       "      <td>6.277520e-01</td>\n",
       "      <td>-1.279022e+00</td>\n",
       "      <td>-0.511778</td>\n",
       "      <td>False</td>\n",
       "      <td>False</td>\n",
       "      <td>False</td>\n",
       "      <td>True</td>\n",
       "      <td>True</td>\n",
       "      <td>False</td>\n",
       "      <td>True</td>\n",
       "      <td>...</td>\n",
       "      <td>False</td>\n",
       "      <td>False</td>\n",
       "      <td>False</td>\n",
       "      <td>False</td>\n",
       "      <td>True</td>\n",
       "      <td>False</td>\n",
       "      <td>False</td>\n",
       "      <td>False</td>\n",
       "      <td>False</td>\n",
       "      <td>False</td>\n",
       "    </tr>\n",
       "  </tbody>\n",
       "</table>\n",
       "<p>8969 rows × 22 columns</p>\n",
       "</div>"
      ],
      "text/plain": [
       "             tenure  MonthlyCharges  TotalCharges  gender_Male  Partner_Yes  \\\n",
       "9530   7.502471e-01   -8.033799e-01     -0.226969        False         True   \n",
       "10595 -1.439224e-16    3.721221e-01      0.568982        False        False   \n",
       "5373   1.562358e+00    1.704932e+00      2.193547         True         True   \n",
       "7280   1.237255e+00   -5.473327e-16      1.043772         True         True   \n",
       "4826  -9.989193e-01    1.706636e+00     -0.645395        False        False   \n",
       "...             ...             ...           ...          ...          ...   \n",
       "5740   1.481047e+00   -6.160724e-01      0.211247         True         True   \n",
       "5195   1.603013e+00    2.975695e-01      1.334510         True        False   \n",
       "5394   6.272884e-01    1.703909e+00      1.223452        False         True   \n",
       "860   -2.671258e-01   -1.568548e+00     -0.808930         True        False   \n",
       "7282   6.277520e-01   -1.279022e+00     -0.511778        False        False   \n",
       "\n",
       "       Dependents_Yes  PhoneService_Yes  MultipleLines_Yes  \\\n",
       "9530             True             False              False   \n",
       "10595           False              True               True   \n",
       "5373            False              True              False   \n",
       "7280             True              True              False   \n",
       "4826            False              True               True   \n",
       "...               ...               ...                ...   \n",
       "5740             True             False              False   \n",
       "5195            False              True              False   \n",
       "5394            False              True               True   \n",
       "860             False              True              False   \n",
       "7282            False              True               True   \n",
       "\n",
       "       InternetService_Fiber optic  InternetService_No  ...  \\\n",
       "9530                         False               False  ...   \n",
       "10595                        False               False  ...   \n",
       "5373                          True               False  ...   \n",
       "7280                         False               False  ...   \n",
       "4826                          True               False  ...   \n",
       "...                            ...                 ...  ...   \n",
       "5740                         False               False  ...   \n",
       "5195                         False               False  ...   \n",
       "5394                          True               False  ...   \n",
       "860                          False                True  ...   \n",
       "7282                         False                True  ...   \n",
       "\n",
       "       DeviceProtection_Yes  TechSupport_Yes  StreamingTV_Yes  \\\n",
       "9530                  False             True            False   \n",
       "10595                  True            False             True   \n",
       "5373                   True             True             True   \n",
       "7280                   True             True             True   \n",
       "4826                   True            False             True   \n",
       "...                     ...              ...              ...   \n",
       "5740                   True             True            False   \n",
       "5195                   True             True             True   \n",
       "5394                  False             True             True   \n",
       "860                   False            False            False   \n",
       "7282                  False            False            False   \n",
       "\n",
       "       StreamingMovies_Yes  Contract_One year  Contract_Two year  \\\n",
       "9530                 False              False               True   \n",
       "10595                 True              False               True   \n",
       "5373                  True              False               True   \n",
       "7280                 False              False               True   \n",
       "4826                  True              False              False   \n",
       "...                    ...                ...                ...   \n",
       "5740                 False              False               True   \n",
       "5195                 False              False               True   \n",
       "5394                  True              False              False   \n",
       "860                  False               True              False   \n",
       "7282                 False               True              False   \n",
       "\n",
       "       PaperlessBilling_Yes  PaymentMethod_Credit card (automatic)  \\\n",
       "9530                  False                                  False   \n",
       "10595                 False                                  False   \n",
       "5373                   True                                  False   \n",
       "7280                  False                                   True   \n",
       "4826                   True                                  False   \n",
       "...                     ...                                    ...   \n",
       "5740                  False                                  False   \n",
       "5195                   True                                  False   \n",
       "5394                   True                                   True   \n",
       "860                   False                                   True   \n",
       "7282                  False                                  False   \n",
       "\n",
       "       PaymentMethod_Electronic check  PaymentMethod_Mailed check  \n",
       "9530                            False                       False  \n",
       "10595                           False                        True  \n",
       "5373                             True                       False  \n",
       "7280                            False                       False  \n",
       "4826                             True                       False  \n",
       "...                               ...                         ...  \n",
       "5740                            False                        True  \n",
       "5195                            False                       False  \n",
       "5394                            False                       False  \n",
       "860                             False                       False  \n",
       "7282                            False                       False  \n",
       "\n",
       "[8969 rows x 22 columns]"
      ]
     },
     "execution_count": 33,
     "metadata": {},
     "output_type": "execute_result"
    }
   ],
   "source": [
    "X_train"
   ]
  },
  {
   "cell_type": "code",
   "execution_count": 34,
   "metadata": {},
   "outputs": [],
   "source": [
    "# merge label with feature\n",
    "X_train['Churn'] = y_train\n",
    "X_test['Churn'] = y_test"
   ]
  },
  {
   "cell_type": "code",
   "execution_count": null,
   "metadata": {},
   "outputs": [],
   "source": []
  },
  {
   "cell_type": "code",
   "execution_count": 35,
   "metadata": {},
   "outputs": [
    {
     "name": "stdout",
     "output_type": "stream",
     "text": [
      "<class 'pandas.core.frame.DataFrame'>\n",
      "Index: 8969 entries, 9530 to 7282\n",
      "Data columns (total 23 columns):\n",
      " #   Column                                 Non-Null Count  Dtype  \n",
      "---  ------                                 --------------  -----  \n",
      " 0   tenure                                 8969 non-null   float64\n",
      " 1   MonthlyCharges                         8969 non-null   float64\n",
      " 2   TotalCharges                           8969 non-null   float64\n",
      " 3   gender_Male                            8969 non-null   bool   \n",
      " 4   Partner_Yes                            8969 non-null   bool   \n",
      " 5   Dependents_Yes                         8969 non-null   bool   \n",
      " 6   PhoneService_Yes                       8969 non-null   bool   \n",
      " 7   MultipleLines_Yes                      8969 non-null   bool   \n",
      " 8   InternetService_Fiber optic            8969 non-null   bool   \n",
      " 9   InternetService_No                     8969 non-null   bool   \n",
      " 10  OnlineSecurity_Yes                     8969 non-null   bool   \n",
      " 11  OnlineBackup_Yes                       8969 non-null   bool   \n",
      " 12  DeviceProtection_Yes                   8969 non-null   bool   \n",
      " 13  TechSupport_Yes                        8969 non-null   bool   \n",
      " 14  StreamingTV_Yes                        8969 non-null   bool   \n",
      " 15  StreamingMovies_Yes                    8969 non-null   bool   \n",
      " 16  Contract_One year                      8969 non-null   bool   \n",
      " 17  Contract_Two year                      8969 non-null   bool   \n",
      " 18  PaperlessBilling_Yes                   8969 non-null   bool   \n",
      " 19  PaymentMethod_Credit card (automatic)  8969 non-null   bool   \n",
      " 20  PaymentMethod_Electronic check         8969 non-null   bool   \n",
      " 21  PaymentMethod_Mailed check             8969 non-null   bool   \n",
      " 22  Churn                                  8969 non-null   int32  \n",
      "dtypes: bool(19), float64(3), int32(1)\n",
      "memory usage: 481.7 KB\n"
     ]
    }
   ],
   "source": [
    "X_train.info()"
   ]
  },
  {
   "cell_type": "code",
   "execution_count": 36,
   "metadata": {},
   "outputs": [
    {
     "name": "stdout",
     "output_type": "stream",
     "text": [
      "<class 'pandas.core.frame.DataFrame'>\n",
      "Index: 2243 entries, 4566 to 8929\n",
      "Data columns (total 23 columns):\n",
      " #   Column                                 Non-Null Count  Dtype  \n",
      "---  ------                                 --------------  -----  \n",
      " 0   tenure                                 2243 non-null   float64\n",
      " 1   MonthlyCharges                         2243 non-null   float64\n",
      " 2   TotalCharges                           2243 non-null   float64\n",
      " 3   gender_Male                            2243 non-null   bool   \n",
      " 4   Partner_Yes                            2243 non-null   bool   \n",
      " 5   Dependents_Yes                         2243 non-null   bool   \n",
      " 6   PhoneService_Yes                       2243 non-null   bool   \n",
      " 7   MultipleLines_Yes                      2243 non-null   bool   \n",
      " 8   InternetService_Fiber optic            2243 non-null   bool   \n",
      " 9   InternetService_No                     2243 non-null   bool   \n",
      " 10  OnlineSecurity_Yes                     2243 non-null   bool   \n",
      " 11  OnlineBackup_Yes                       2243 non-null   bool   \n",
      " 12  DeviceProtection_Yes                   2243 non-null   bool   \n",
      " 13  TechSupport_Yes                        2243 non-null   bool   \n",
      " 14  StreamingTV_Yes                        2243 non-null   bool   \n",
      " 15  StreamingMovies_Yes                    2243 non-null   bool   \n",
      " 16  Contract_One year                      2243 non-null   bool   \n",
      " 17  Contract_Two year                      2243 non-null   bool   \n",
      " 18  PaperlessBilling_Yes                   2243 non-null   bool   \n",
      " 19  PaymentMethod_Credit card (automatic)  2243 non-null   bool   \n",
      " 20  PaymentMethod_Electronic check         2243 non-null   bool   \n",
      " 21  PaymentMethod_Mailed check             2243 non-null   bool   \n",
      " 22  Churn                                  2243 non-null   int32  \n",
      "dtypes: bool(19), float64(3), int32(1)\n",
      "memory usage: 120.5 KB\n"
     ]
    }
   ],
   "source": [
    "X_test.info()"
   ]
  },
  {
   "cell_type": "code",
   "execution_count": 37,
   "metadata": {},
   "outputs": [
    {
     "name": "stdout",
     "output_type": "stream",
     "text": [
      "Train missing data: 0 \n",
      "Test missing data: 0\n",
      "\n",
      "Train duplicated data: 0 \n",
      "Test duplicated data: 0\n"
     ]
    }
   ],
   "source": [
    "print(\"Train missing data:\", X_train.isna().sum().sum(), \"\\nTest missing data:\", X_test.isna().sum().sum())\n",
    "print()\n",
    "print(\"Train duplicated data:\", X_train.duplicated().sum(), \"\\nTest duplicated data:\", X_test.duplicated().sum())\n"
   ]
  },
  {
   "cell_type": "markdown",
   "metadata": {},
   "source": [
    "### Done!"
   ]
  }
 ],
 "metadata": {
  "kernelspec": {
   "display_name": "vsc",
   "language": "python",
   "name": "python3"
  },
  "language_info": {
   "codemirror_mode": {
    "name": "ipython",
    "version": 3
   },
   "file_extension": ".py",
   "mimetype": "text/x-python",
   "name": "python",
   "nbconvert_exporter": "python",
   "pygments_lexer": "ipython3",
   "version": "3.11.9"
  }
 },
 "nbformat": 4,
 "nbformat_minor": 2
}
